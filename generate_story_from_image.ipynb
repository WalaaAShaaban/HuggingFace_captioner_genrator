{
 "cells": [
  {
   "cell_type": "code",
   "execution_count": 3,
   "metadata": {},
   "outputs": [
    {
     "name": "stdout",
     "output_type": "stream",
     "text": [
      "Writing generate_story.py\n"
     ]
    }
   ],
   "source": [
    "%%writefile generate_story.py\n",
    "import streamlit as st\n",
    "from transformers import pipeline\n",
    "from PIL import Image\n",
    "\n",
    "captioner = pipeline(\"image-to-text\",model=\"Salesforce/blip-image-captioning-base\")\n",
    "generator = pipeline('text-generation', model = 'gpt2')\n",
    "\n",
    "uploaded_image = st.file_uploader(\"Choose a CSV file\", type=['jpg', 'png', 'jpeg'])\n",
    "\n",
    "if uploaded_image:\n",
    "    image = Image.open(uploaded_image)\n",
    "    caption = captioner(image)\n",
    "    st.image(image)\n",
    "    st.write(caption[0]['generated_text'])\n",
    "    story = generator(caption[0]['generated_text'], max_length = 50, num_return_sequences=3)\n",
    "    st.write(story)"
   ]
  },
  {
   "cell_type": "code",
   "execution_count": 4,
   "metadata": {},
   "outputs": [
    {
     "name": "stdout",
     "output_type": "stream",
     "text": [
      "\u001b[0m\n",
      "\u001b[34m\u001b[1m  You can now view your Streamlit app in your browser.\u001b[0m\n",
      "\u001b[0m\n",
      "\u001b[34m  Local URL: \u001b[0m\u001b[1mhttp://localhost:8501\u001b[0m\n",
      "\u001b[34m  Network URL: \u001b[0m\u001b[1mhttp://192.168.8.102:8501\u001b[0m\n",
      "\u001b[0m\n",
      "2023-11-18 23:29:48.382042: I tensorflow/core/platform/cpu_feature_guard.cc:193] This TensorFlow binary is optimized with oneAPI Deep Neural Network Library (oneDNN) to use the following CPU instructions in performance-critical operations:  SSE4.1 SSE4.2 AVX AVX2 FMA\n",
      "To enable them in other operations, rebuild TensorFlow with the appropriate compiler flags.\n",
      "^C\n",
      "\u001b[34m  Stopping...\u001b[0m\n"
     ]
    }
   ],
   "source": [
    "! streamlit run generate_story.py --server.fileWatcherType none"
   ]
  },
  {
   "cell_type": "code",
   "execution_count": null,
   "metadata": {},
   "outputs": [],
   "source": []
  }
 ],
 "metadata": {
  "kernelspec": {
   "display_name": "base",
   "language": "python",
   "name": "python3"
  },
  "language_info": {
   "codemirror_mode": {
    "name": "ipython",
    "version": 3
   },
   "file_extension": ".py",
   "mimetype": "text/x-python",
   "name": "python",
   "nbconvert_exporter": "python",
   "pygments_lexer": "ipython3",
   "version": "3.10.9"
  }
 },
 "nbformat": 4,
 "nbformat_minor": 2
}
